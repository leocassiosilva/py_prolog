{
 "cells": [
  {
   "cell_type": "code",
   "execution_count": 2,
   "id": "df5876c6",
   "metadata": {},
   "outputs": [],
   "source": [
    "from pyswip import Prolog\n",
    "prolog = Prolog()\n",
    "prolog.assertz(\"father(michael,john)\")\n"
   ]
  },
  {
   "cell_type": "code",
   "execution_count": 29,
   "id": "052cca66",
   "metadata": {},
   "outputs": [],
   "source": [
    "from pyswip import Prolog\n",
    "prolog = Prolog()\n",
    "prolog.assertz(\"progenitor(sara,isaque)\")\n",
    "prolog.assertz(\"progenitor(abraão,isaque)\")\n",
    "prolog.assertz(\"progenitor(abraão,ismael)\")\n",
    "prolog.assertz(\"progenitor(isaque,esaú)\")\n",
    "prolog.assertz(\"progenitor(isaque,jacó)\")\n",
    "prolog.assertz(\"progenitor(jacó,josé)\")\n",
    "prolog.assertz(\"mulher(sara)\")\n",
    "prolog.assertz(\"homem(abraão)\")\n",
    "prolog.assertz(\"homem(isaque)\")\n",
    "prolog.assertz(\"homem(ismael)\")\n",
    "prolog.assertz(\"homem(esaú)\")\n",
    "prolog.assertz(\"homem(jacó)\")\n",
    "prolog.assertz(\"homem(josé)\")"
   ]
  },
  {
   "cell_type": "code",
   "execution_count": 30,
   "id": "70318d36",
   "metadata": {},
   "outputs": [
    {
     "name": "stdout",
     "output_type": "stream",
     "text": [
      "[]\n"
     ]
    }
   ],
   "source": [
    "from __future__ import print_function\n",
    "from pyswip import Prolog, registerForeign\n",
    "\n",
    "prolog = Prolog()\n",
    "\n",
    "print(list(prolog.query(\"progenitor(sara,X), progenitor(X,ismael)\")))\n",
    "\n",
    "\n"
   ]
  },
  {
   "cell_type": "code",
   "execution_count": null,
   "id": "2e3f3ce0",
   "metadata": {},
   "outputs": [],
   "source": []
  },
  {
   "cell_type": "code",
   "execution_count": null,
   "id": "992e7db8",
   "metadata": {},
   "outputs": [],
   "source": []
  }
 ],
 "metadata": {
  "kernelspec": {
   "display_name": "Python 3",
   "language": "python",
   "name": "python3"
  },
  "language_info": {
   "codemirror_mode": {
    "name": "ipython",
    "version": 3
   },
   "file_extension": ".py",
   "mimetype": "text/x-python",
   "name": "python",
   "nbconvert_exporter": "python",
   "pygments_lexer": "ipython3",
   "version": "3.8.10"
  }
 },
 "nbformat": 4,
 "nbformat_minor": 5
}
