{
 "cells": [
  {
   "cell_type": "code",
   "execution_count": 2,
   "id": "b80c2b6e",
   "metadata": {},
   "outputs": [],
   "source": []
  },
  {
   "cell_type": "code",
   "execution_count": 34,
   "id": "1e069317",
   "metadata": {},
   "outputs": [],
   "source": [
    "from pyswip import Prolog\n",
    "prolog = Prolog()\n",
    "prolog.assertz(\"progenitor(sara,isaque)\")\n",
    "prolog.assertz(\"progenitor(abraão,isaque)\")\n",
    "prolog.assertz(\"progenitor(abraão,ismael)\")\n",
    "prolog.assertz(\"progenitor(isaque,esaú)\")\n",
    "prolog.assertz(\"progenitor(isaque,jacó)\")\n",
    "prolog.assertz(\"progenitor(jacó,josé)\")\n",
    "prolog.assertz(\"mulher(sara)\")\n",
    "prolog.assertz(\"homem(abraão)\")\n",
    "prolog.assertz(\"homem(isaque)\")\n",
    "prolog.assertz(\"homem(ismael)\")\n",
    "prolog.assertz(\"homem(esaú)\")\n",
    "prolog.assertz(\"homem(jacó)\")\n",
    "prolog.assertz(\"homem(josé)\")\n",
    "prolog.assertz(\"filho(Y,X) :- progenitor(X,Y)\")\n",
    "prolog.assertz(\"mae(X,Y) :- progenitor(X,Y), mulher(X)\")\n",
    "prolog.assertz(\"avo(X,Z) :- progenitor(X,Y), progenitor(Y,Z)\")\n",
    "prolog.assertz(\"irmão(X,Y) :- progenitor(Z,X), progenitor(Z,Y)\")\n",
    "prolog.assertz(\"ancestral(X,Z) :- progenitor(X,Z)\")\n",
    "prolog.assertz(\"ancestral(X,Z) :- progenitor(X,Y), ancestral(Y,Z)\")"
   ]
  },
  {
   "cell_type": "code",
   "execution_count": null,
   "id": "14313d51",
   "metadata": {},
   "outputs": [],
   "source": [
    "\n"
   ]
  },
  {
   "cell_type": "code",
   "execution_count": null,
   "id": "0a6015ee",
   "metadata": {},
   "outputs": [],
   "source": []
  },
  {
   "cell_type": "code",
   "execution_count": null,
   "id": "66421b4c",
   "metadata": {},
   "outputs": [],
   "source": []
  }
 ],
 "metadata": {
  "kernelspec": {
   "display_name": "Python 3",
   "language": "python",
   "name": "python3"
  },
  "language_info": {
   "codemirror_mode": {
    "name": "ipython",
    "version": 3
   },
   "file_extension": ".py",
   "mimetype": "text/x-python",
   "name": "python",
   "nbconvert_exporter": "python",
   "pygments_lexer": "ipython3",
   "version": "3.8.10"
  }
 },
 "nbformat": 4,
 "nbformat_minor": 5
}
